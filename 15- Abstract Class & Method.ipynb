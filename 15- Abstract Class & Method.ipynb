{
 "cells": [
  {
   "cell_type": "markdown",
   "id": "e33add61",
   "metadata": {},
   "source": [
    "# Abstract Class & Method"
   ]
  },
  {
   "cell_type": "code",
   "execution_count": 46,
   "id": "e0cfcaad",
   "metadata": {},
   "outputs": [],
   "source": [
    "from abc import ABC, abstractmethod"
   ]
  },
  {
   "cell_type": "code",
   "execution_count": 47,
   "id": "452d98d0",
   "metadata": {},
   "outputs": [],
   "source": [
    "class Computer(ABC):\n",
    "    @abstractmethod\n",
    "    def process(self):\n",
    "        pass\n",
    "    \n",
    "class Laptop(Computer):\n",
    "    def process(self):\n",
    "        print(\"laptop running\")\n",
    "        \n",
    "class Desktop(Computer):\n",
    "    def process(self):\n",
    "        print('desktop running')\n",
    "        \n",
    "class Programmer:\n",
    "    def work(self, com):\n",
    "        print('solving bugs')\n",
    "        com.process()"
   ]
  },
  {
   "cell_type": "code",
   "execution_count": 48,
   "id": "adf4c9ff",
   "metadata": {},
   "outputs": [
    {
     "name": "stdout",
     "output_type": "stream",
     "text": [
      "laptop running\n"
     ]
    }
   ],
   "source": [
    "com1 = Laptop()\n",
    "com1.process()"
   ]
  },
  {
   "cell_type": "code",
   "execution_count": 49,
   "id": "8a11d9aa",
   "metadata": {},
   "outputs": [
    {
     "name": "stdout",
     "output_type": "stream",
     "text": [
      "desktop running\n"
     ]
    }
   ],
   "source": [
    "com2 = Desktop()\n",
    "com2.process()"
   ]
  },
  {
   "cell_type": "code",
   "execution_count": 50,
   "id": "58aaaa38",
   "metadata": {},
   "outputs": [
    {
     "name": "stdout",
     "output_type": "stream",
     "text": [
      "solving bugs\n",
      "desktop running\n"
     ]
    }
   ],
   "source": [
    "prog1 = Programmer()\n",
    "prog1.work(com2)"
   ]
  },
  {
   "cell_type": "code",
   "execution_count": null,
   "id": "76179e48",
   "metadata": {},
   "outputs": [],
   "source": []
  }
 ],
 "metadata": {
  "kernelspec": {
   "display_name": "Python 3",
   "language": "python",
   "name": "python3"
  },
  "language_info": {
   "codemirror_mode": {
    "name": "ipython",
    "version": 3
   },
   "file_extension": ".py",
   "mimetype": "text/x-python",
   "name": "python",
   "nbconvert_exporter": "python",
   "pygments_lexer": "ipython3",
   "version": "3.9.1"
  }
 },
 "nbformat": 4,
 "nbformat_minor": 5
}
