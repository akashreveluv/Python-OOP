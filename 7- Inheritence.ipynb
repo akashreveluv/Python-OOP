{
 "cells": [
  {
   "cell_type": "code",
   "execution_count": 30,
   "id": "f507b2d6",
   "metadata": {},
   "outputs": [],
   "source": [
    "class A:\n",
    "    def feature1(self):\n",
    "        print('Feature 1 is working')\n",
    "        \n",
    "    def feature2(self):\n",
    "        print('Feature 2 is working')\n",
    "        \n",
    "class B(): # B(A) means B is inheriting features of class A (B is subclass, A is superclass)\n",
    "    def feature3(self):\n",
    "        print('Feature 3 is working')\n",
    "        \n",
    "    def feature4(self):\n",
    "        print('Feature 4 is working')\n",
    "        \n",
    "class C(A, B): # we can use C(A, B): multiple inheritence, if B doesn't inherit A, and sill C want to inherit features of A\n",
    "    def feature5(self):\n",
    "        print('Feature 5 is working')"
   ]
  },
  {
   "cell_type": "code",
   "execution_count": 31,
   "id": "59e5ff1a",
   "metadata": {},
   "outputs": [],
   "source": [
    "a1 = A()"
   ]
  },
  {
   "cell_type": "code",
   "execution_count": 32,
   "id": "8f3aa964",
   "metadata": {},
   "outputs": [
    {
     "name": "stdout",
     "output_type": "stream",
     "text": [
      "Feature 1 is working\n"
     ]
    }
   ],
   "source": [
    "a1.feature1()"
   ]
  },
  {
   "cell_type": "code",
   "execution_count": 33,
   "id": "216927a7",
   "metadata": {},
   "outputs": [
    {
     "name": "stdout",
     "output_type": "stream",
     "text": [
      "Feature 2 is working\n"
     ]
    }
   ],
   "source": [
    "a1.feature2()"
   ]
  },
  {
   "cell_type": "code",
   "execution_count": 34,
   "id": "8d8e21ca",
   "metadata": {},
   "outputs": [],
   "source": [
    "b1 = B()"
   ]
  },
  {
   "cell_type": "code",
   "execution_count": 37,
   "id": "4f8e8da5",
   "metadata": {},
   "outputs": [],
   "source": [
    "# b1.feature1()"
   ]
  },
  {
   "cell_type": "code",
   "execution_count": 38,
   "id": "a7ebc14f",
   "metadata": {},
   "outputs": [
    {
     "name": "stdout",
     "output_type": "stream",
     "text": [
      "Feature 3 is working\n"
     ]
    }
   ],
   "source": [
    "b1.feature3()"
   ]
  },
  {
   "cell_type": "code",
   "execution_count": 39,
   "id": "3325f8cc",
   "metadata": {},
   "outputs": [],
   "source": [
    "c1 = C()"
   ]
  },
  {
   "cell_type": "code",
   "execution_count": 41,
   "id": "115b00bd",
   "metadata": {},
   "outputs": [
    {
     "name": "stdout",
     "output_type": "stream",
     "text": [
      "Feature 2 is working\n"
     ]
    }
   ],
   "source": [
    "c1.feature2()"
   ]
  },
  {
   "cell_type": "code",
   "execution_count": null,
   "id": "2a7666d9",
   "metadata": {},
   "outputs": [],
   "source": []
  }
 ],
 "metadata": {
  "kernelspec": {
   "display_name": "Python 3",
   "language": "python",
   "name": "python3"
  },
  "language_info": {
   "codemirror_mode": {
    "name": "ipython",
    "version": 3
   },
   "file_extension": ".py",
   "mimetype": "text/x-python",
   "name": "python",
   "nbconvert_exporter": "python",
   "pygments_lexer": "ipython3",
   "version": "3.9.1"
  }
 },
 "nbformat": 4,
 "nbformat_minor": 5
}
