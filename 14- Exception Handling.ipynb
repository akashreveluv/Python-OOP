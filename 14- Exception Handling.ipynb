{
 "cells": [
  {
   "cell_type": "markdown",
   "id": "07ddb33c",
   "metadata": {},
   "source": [
    "# Exception Handling"
   ]
  },
  {
   "cell_type": "markdown",
   "id": "57788cca",
   "metadata": {},
   "source": [
    "## Three types of Errors:\n",
    "\n",
    "### Compile Error, Logical Error, Runtime Error"
   ]
  },
  {
   "cell_type": "code",
   "execution_count": 29,
   "id": "f9aede93",
   "metadata": {},
   "outputs": [
    {
     "name": "stdout",
     "output_type": "stream",
     "text": [
      "resource open\n",
      "2.5\n",
      "Enter number:((\n",
      "Invalid Input\n",
      "resource close\n"
     ]
    }
   ],
   "source": [
    "a = 5\n",
    "b = 2\n",
    "\n",
    "try:\n",
    "    print('resource open')\n",
    "    print(a / b)\n",
    "    k = int(input('Enter number:'))\n",
    "    print(k)\n",
    "    \n",
    "except ZeroDivisionError as e:\n",
    "    print('Hey! You can not divide a number by zero', e)\n",
    "    \n",
    "except ValueError as e:\n",
    "    print('Invalid Input')\n",
    "    \n",
    "except Exception as e:\n",
    "    print('Something went wrong')\n",
    "\n",
    "finally:\n",
    "    print('resource close')\n",
    "    "
   ]
  },
  {
   "cell_type": "code",
   "execution_count": null,
   "id": "9449b480",
   "metadata": {},
   "outputs": [],
   "source": []
  }
 ],
 "metadata": {
  "kernelspec": {
   "display_name": "Python 3",
   "language": "python",
   "name": "python3"
  },
  "language_info": {
   "codemirror_mode": {
    "name": "ipython",
    "version": 3
   },
   "file_extension": ".py",
   "mimetype": "text/x-python",
   "name": "python",
   "nbconvert_exporter": "python",
   "pygments_lexer": "ipython3",
   "version": "3.9.1"
  }
 },
 "nbformat": 4,
 "nbformat_minor": 5
}
