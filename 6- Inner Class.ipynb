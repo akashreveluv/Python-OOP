{
 "cells": [
  {
   "cell_type": "code",
   "execution_count": 21,
   "id": "9ed47a4e",
   "metadata": {},
   "outputs": [],
   "source": [
    "class Student:\n",
    "    def __init__(self, name, rollno):\n",
    "        self.name = name\n",
    "        self.rollno = rollno\n",
    "        self.lap = self.Laptop() # object of inner class: Laptop\n",
    "        \n",
    "    def show(self):\n",
    "        print(self.name, self.rollno)\n",
    "        \n",
    "    class Laptop: # inner class\n",
    "        def __init__(self):\n",
    "            self.brand = 'Asus'\n",
    "            self.cpu = 'i5'\n",
    "            self.ram = '8gb'\n",
    "            \n",
    "        def show(self):\n",
    "            print(self.brand, self.cpu, self.ram)"
   ]
  },
  {
   "cell_type": "code",
   "execution_count": 22,
   "id": "b5dea1e3",
   "metadata": {},
   "outputs": [],
   "source": [
    "s1 = Student('Akash', 5)\n",
    "s2 = Student('Yeri', 4)"
   ]
  },
  {
   "cell_type": "code",
   "execution_count": 23,
   "id": "1806d8cc",
   "metadata": {},
   "outputs": [
    {
     "name": "stdout",
     "output_type": "stream",
     "text": [
      "Akash 5\n",
      "Yeri 4\n"
     ]
    }
   ],
   "source": [
    "s1.show()\n",
    "s2.show()"
   ]
  },
  {
   "cell_type": "code",
   "execution_count": 24,
   "id": "dae752b9",
   "metadata": {},
   "outputs": [],
   "source": [
    "lap1 = s1.lap\n",
    "lap2 = s2.lap"
   ]
  },
  {
   "cell_type": "code",
   "execution_count": 25,
   "id": "d58a162a",
   "metadata": {},
   "outputs": [
    {
     "data": {
      "text/plain": [
       "'Asus'"
      ]
     },
     "execution_count": 25,
     "metadata": {},
     "output_type": "execute_result"
    }
   ],
   "source": [
    "lap1.brand"
   ]
  },
  {
   "cell_type": "code",
   "execution_count": 29,
   "id": "42a07623",
   "metadata": {},
   "outputs": [
    {
     "name": "stdout",
     "output_type": "stream",
     "text": [
      "Asus i5 8gb\n"
     ]
    }
   ],
   "source": [
    "lap1.show()"
   ]
  },
  {
   "cell_type": "code",
   "execution_count": 26,
   "id": "7ddb8147",
   "metadata": {},
   "outputs": [],
   "source": [
    "# object of inner class: Laptop in outside the class\n",
    "lap_1 = Student.Laptop()"
   ]
  },
  {
   "cell_type": "code",
   "execution_count": 27,
   "id": "a680ec8a",
   "metadata": {},
   "outputs": [
    {
     "data": {
      "text/plain": [
       "'Asus'"
      ]
     },
     "execution_count": 27,
     "metadata": {},
     "output_type": "execute_result"
    }
   ],
   "source": [
    "lap_1.brand"
   ]
  },
  {
   "cell_type": "code",
   "execution_count": 28,
   "id": "78325e48",
   "metadata": {},
   "outputs": [
    {
     "name": "stdout",
     "output_type": "stream",
     "text": [
      "Asus i5 8gb\n"
     ]
    }
   ],
   "source": [
    "lap_1.show()"
   ]
  },
  {
   "cell_type": "code",
   "execution_count": null,
   "id": "2c5b8b9b",
   "metadata": {},
   "outputs": [],
   "source": []
  }
 ],
 "metadata": {
  "kernelspec": {
   "display_name": "Python 3",
   "language": "python",
   "name": "python3"
  },
  "language_info": {
   "codemirror_mode": {
    "name": "ipython",
    "version": 3
   },
   "file_extension": ".py",
   "mimetype": "text/x-python",
   "name": "python",
   "nbconvert_exporter": "python",
   "pygments_lexer": "ipython3",
   "version": "3.9.1"
  }
 },
 "nbformat": 4,
 "nbformat_minor": 5
}
