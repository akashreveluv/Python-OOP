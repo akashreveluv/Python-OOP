{
 "cells": [
  {
   "cell_type": "code",
   "execution_count": 7,
   "id": "e8dc7b55",
   "metadata": {},
   "outputs": [],
   "source": [
    "class Computer:\n",
    "    def config(self):\n",
    "        print(\"i5, 16gb, 1TB\")"
   ]
  },
  {
   "cell_type": "code",
   "execution_count": 8,
   "id": "42613fac",
   "metadata": {},
   "outputs": [],
   "source": [
    "comp1 = Computer()"
   ]
  },
  {
   "cell_type": "code",
   "execution_count": 9,
   "id": "fd399e84",
   "metadata": {},
   "outputs": [
    {
     "name": "stdout",
     "output_type": "stream",
     "text": [
      "<class '__main__.Computer'>\n"
     ]
    }
   ],
   "source": [
    "print(type(comp1))"
   ]
  },
  {
   "cell_type": "code",
   "execution_count": 10,
   "id": "04cd82f7",
   "metadata": {},
   "outputs": [
    {
     "name": "stdout",
     "output_type": "stream",
     "text": [
      "i5, 16gb, 1TB\n"
     ]
    }
   ],
   "source": [
    "comp1.config()"
   ]
  },
  {
   "cell_type": "code",
   "execution_count": 11,
   "id": "1c5c3c82",
   "metadata": {},
   "outputs": [],
   "source": [
    "comp2 = Computer()"
   ]
  },
  {
   "cell_type": "code",
   "execution_count": 12,
   "id": "17bd7c1d",
   "metadata": {},
   "outputs": [
    {
     "name": "stdout",
     "output_type": "stream",
     "text": [
      "i5, 16gb, 1TB\n"
     ]
    }
   ],
   "source": [
    "comp2.config()"
   ]
  },
  {
   "cell_type": "code",
   "execution_count": null,
   "id": "94f8cc20",
   "metadata": {},
   "outputs": [],
   "source": []
  }
 ],
 "metadata": {
  "kernelspec": {
   "display_name": "Python 3",
   "language": "python",
   "name": "python3"
  },
  "language_info": {
   "codemirror_mode": {
    "name": "ipython",
    "version": 3
   },
   "file_extension": ".py",
   "mimetype": "text/x-python",
   "name": "python",
   "nbconvert_exporter": "python",
   "pygments_lexer": "ipython3",
   "version": "3.9.1"
  }
 },
 "nbformat": 4,
 "nbformat_minor": 5
}
