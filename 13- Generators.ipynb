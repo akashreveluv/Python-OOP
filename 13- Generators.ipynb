{
 "cells": [
  {
   "cell_type": "markdown",
   "id": "50d782f8",
   "metadata": {},
   "source": [
    "# Generators - Python OOPs"
   ]
  },
  {
   "cell_type": "code",
   "execution_count": 16,
   "id": "a4a1f617",
   "metadata": {},
   "outputs": [],
   "source": [
    "def topten():\n",
    "    yield 5 # return values location\n",
    "    #return 5 # return the value\n",
    "    yield 4\n",
    "    yield 3\n",
    "    yield 2\n",
    "    yield 1"
   ]
  },
  {
   "cell_type": "code",
   "execution_count": 29,
   "id": "e1d5f57f",
   "metadata": {},
   "outputs": [],
   "source": [
    "values = topten()"
   ]
  },
  {
   "cell_type": "code",
   "execution_count": 27,
   "id": "353e702d",
   "metadata": {},
   "outputs": [
    {
     "data": {
      "text/plain": [
       "5"
      ]
     },
     "execution_count": 27,
     "metadata": {},
     "output_type": "execute_result"
    }
   ],
   "source": [
    "values.__next__()"
   ]
  },
  {
   "cell_type": "code",
   "execution_count": 30,
   "id": "fd372dcf",
   "metadata": {},
   "outputs": [
    {
     "name": "stdout",
     "output_type": "stream",
     "text": [
      "5\n",
      "4\n",
      "3\n",
      "2\n",
      "1\n"
     ]
    }
   ],
   "source": [
    "for i in values:\n",
    "    print(i)"
   ]
  },
  {
   "cell_type": "code",
   "execution_count": 32,
   "id": "63553a2b",
   "metadata": {},
   "outputs": [],
   "source": [
    "def toptensq():\n",
    "    n = 1\n",
    "    while n <= 10:\n",
    "        sq = n * n\n",
    "        yield sq\n",
    "        n += 1"
   ]
  },
  {
   "cell_type": "code",
   "execution_count": 33,
   "id": "4803bbbd",
   "metadata": {},
   "outputs": [],
   "source": [
    "val = toptensq()"
   ]
  },
  {
   "cell_type": "code",
   "execution_count": 34,
   "id": "a6fb063b",
   "metadata": {},
   "outputs": [
    {
     "name": "stdout",
     "output_type": "stream",
     "text": [
      "1\n",
      "4\n",
      "9\n",
      "16\n",
      "25\n",
      "36\n",
      "49\n",
      "64\n",
      "81\n",
      "100\n"
     ]
    }
   ],
   "source": [
    "for i in val:\n",
    "    print(i)"
   ]
  },
  {
   "cell_type": "code",
   "execution_count": null,
   "id": "67bf4753",
   "metadata": {},
   "outputs": [],
   "source": []
  }
 ],
 "metadata": {
  "kernelspec": {
   "display_name": "Python 3",
   "language": "python",
   "name": "python3"
  },
  "language_info": {
   "codemirror_mode": {
    "name": "ipython",
    "version": 3
   },
   "file_extension": ".py",
   "mimetype": "text/x-python",
   "name": "python",
   "nbconvert_exporter": "python",
   "pygments_lexer": "ipython3",
   "version": "3.9.1"
  }
 },
 "nbformat": 4,
 "nbformat_minor": 5
}
