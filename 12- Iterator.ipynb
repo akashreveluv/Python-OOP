{
 "cells": [
  {
   "cell_type": "markdown",
   "id": "3ee6179d",
   "metadata": {},
   "source": [
    "# Iterator - Python OOPs"
   ]
  },
  {
   "cell_type": "code",
   "execution_count": 1,
   "id": "ccef103c",
   "metadata": {},
   "outputs": [],
   "source": [
    "nums = [7, 8, 9, 5]"
   ]
  },
  {
   "cell_type": "code",
   "execution_count": 7,
   "id": "172715d8",
   "metadata": {},
   "outputs": [
    {
     "name": "stdout",
     "output_type": "stream",
     "text": [
      "7\n",
      "5\n"
     ]
    }
   ],
   "source": [
    "print(nums[0])\n",
    "print(nums[3])\n",
    "#print(nums[7]) # beyond the range"
   ]
  },
  {
   "cell_type": "code",
   "execution_count": 8,
   "id": "6e81c569",
   "metadata": {},
   "outputs": [
    {
     "name": "stdout",
     "output_type": "stream",
     "text": [
      "7\n",
      "8\n",
      "9\n",
      "5\n"
     ]
    }
   ],
   "source": [
    "for i in nums:\n",
    "    print(i)"
   ]
  },
  {
   "cell_type": "code",
   "execution_count": 16,
   "id": "4531687e",
   "metadata": {},
   "outputs": [
    {
     "data": {
      "text/plain": [
       "<list_iterator at 0x2131bd282e0>"
      ]
     },
     "execution_count": 16,
     "metadata": {},
     "output_type": "execute_result"
    }
   ],
   "source": [
    "it = iter(nums) # Give one value at a time\n",
    "it # it only show memory location"
   ]
  },
  {
   "cell_type": "code",
   "execution_count": 17,
   "id": "9bbe8ed9",
   "metadata": {},
   "outputs": [
    {
     "name": "stdout",
     "output_type": "stream",
     "text": [
      "7\n"
     ]
    }
   ],
   "source": [
    "print(it.__next__())"
   ]
  },
  {
   "cell_type": "code",
   "execution_count": 18,
   "id": "1031b039",
   "metadata": {},
   "outputs": [
    {
     "name": "stdout",
     "output_type": "stream",
     "text": [
      "8\n"
     ]
    }
   ],
   "source": [
    "print(it.__next__()) # it remembers last value it's shwoed"
   ]
  },
  {
   "cell_type": "code",
   "execution_count": 19,
   "id": "b1b3c7cd",
   "metadata": {},
   "outputs": [
    {
     "name": "stdout",
     "output_type": "stream",
     "text": [
      "9\n"
     ]
    }
   ],
   "source": [
    "print(next(it)) # it remembers last value it's shwoed"
   ]
  },
  {
   "cell_type": "markdown",
   "id": "9a49cf98",
   "metadata": {},
   "source": [
    "## Create Own Iterator"
   ]
  },
  {
   "cell_type": "code",
   "execution_count": 45,
   "id": "368e7c61",
   "metadata": {},
   "outputs": [],
   "source": [
    "class TopTen:\n",
    "    def __init__(self):\n",
    "        self.num = 1\n",
    "        \n",
    "    def __iter__(self):\n",
    "        return self\n",
    "    \n",
    "    def __next__(self):\n",
    "        if self.num <= 10:\n",
    "            val = self.num\n",
    "            self.num += 1\n",
    "\n",
    "            return val\n",
    "        else:\n",
    "            raise StopIteration"
   ]
  },
  {
   "cell_type": "code",
   "execution_count": 50,
   "id": "29baaf97",
   "metadata": {},
   "outputs": [],
   "source": [
    "values = TopTen()"
   ]
  },
  {
   "cell_type": "code",
   "execution_count": 51,
   "id": "c38eb321",
   "metadata": {},
   "outputs": [
    {
     "data": {
      "text/plain": [
       "1"
      ]
     },
     "execution_count": 51,
     "metadata": {},
     "output_type": "execute_result"
    }
   ],
   "source": [
    "next(values)"
   ]
  },
  {
   "cell_type": "code",
   "execution_count": 52,
   "id": "361aac6a",
   "metadata": {},
   "outputs": [
    {
     "name": "stdout",
     "output_type": "stream",
     "text": [
      "2\n",
      "3\n",
      "4\n",
      "5\n",
      "6\n",
      "7\n",
      "8\n",
      "9\n",
      "10\n"
     ]
    }
   ],
   "source": [
    "for i in values:\n",
    "    print(i)\n",
    "# Once we got 1 by next(values), that is not repeat here in for loop"
   ]
  },
  {
   "cell_type": "code",
   "execution_count": null,
   "id": "ff9a9feb",
   "metadata": {},
   "outputs": [],
   "source": []
  }
 ],
 "metadata": {
  "kernelspec": {
   "display_name": "Python 3",
   "language": "python",
   "name": "python3"
  },
  "language_info": {
   "codemirror_mode": {
    "name": "ipython",
    "version": 3
   },
   "file_extension": ".py",
   "mimetype": "text/x-python",
   "name": "python",
   "nbconvert_exporter": "python",
   "pygments_lexer": "ipython3",
   "version": "3.9.1"
  }
 },
 "nbformat": 4,
 "nbformat_minor": 5
}
