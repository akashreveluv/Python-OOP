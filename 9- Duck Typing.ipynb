{
 "cells": [
  {
   "cell_type": "markdown",
   "id": "a9300a06",
   "metadata": {},
   "source": [
    "# Duck Typing"
   ]
  },
  {
   "cell_type": "code",
   "execution_count": 10,
   "id": "016eb1ed",
   "metadata": {},
   "outputs": [],
   "source": [
    "class PyCharm:\n",
    "    def execute(self):\n",
    "        print('Compiling')\n",
    "        print('Running')"
   ]
  },
  {
   "cell_type": "code",
   "execution_count": 11,
   "id": "807e7d92",
   "metadata": {},
   "outputs": [],
   "source": [
    "class MyEditor:\n",
    "    def execute(self):\n",
    "        print('Spell Check')\n",
    "        print('Convention Check')\n",
    "        print('Compiling')\n",
    "        print('Running')"
   ]
  },
  {
   "cell_type": "code",
   "execution_count": 12,
   "id": "9ac54368",
   "metadata": {},
   "outputs": [],
   "source": [
    "class Laptop:\n",
    "    def code(self, ide):\n",
    "        ide.execute()"
   ]
  },
  {
   "cell_type": "code",
   "execution_count": 13,
   "id": "b77c986a",
   "metadata": {},
   "outputs": [],
   "source": [
    "ide = MyEditor()"
   ]
  },
  {
   "cell_type": "code",
   "execution_count": 14,
   "id": "0c811b40",
   "metadata": {},
   "outputs": [
    {
     "name": "stdout",
     "output_type": "stream",
     "text": [
      "Spell Check\n",
      "Convention Check\n",
      "Compiling\n",
      "Running\n"
     ]
    }
   ],
   "source": [
    "lap1 = Laptop()\n",
    "lap1.code(ide)"
   ]
  },
  {
   "cell_type": "code",
   "execution_count": null,
   "id": "dab63f00",
   "metadata": {},
   "outputs": [],
   "source": [
    " "
   ]
  }
 ],
 "metadata": {
  "kernelspec": {
   "display_name": "Python 3",
   "language": "python",
   "name": "python3"
  },
  "language_info": {
   "codemirror_mode": {
    "name": "ipython",
    "version": 3
   },
   "file_extension": ".py",
   "mimetype": "text/x-python",
   "name": "python",
   "nbconvert_exporter": "python",
   "pygments_lexer": "ipython3",
   "version": "3.9.1"
  }
 },
 "nbformat": 4,
 "nbformat_minor": 5
}
