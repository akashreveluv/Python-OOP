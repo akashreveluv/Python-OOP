{
 "cells": [
  {
   "cell_type": "code",
   "execution_count": 10,
   "id": "d1a9f445",
   "metadata": {},
   "outputs": [],
   "source": [
    "class Car:\n",
    "    wheels = 4\n",
    "    \n",
    "    def __init__(self):\n",
    "        self.mil = 10\n",
    "        self.com = \"KIA\""
   ]
  },
  {
   "cell_type": "code",
   "execution_count": 11,
   "id": "0fcf88c4",
   "metadata": {},
   "outputs": [],
   "source": [
    "c1 = Car()\n",
    "c2 = Car()"
   ]
  },
  {
   "cell_type": "markdown",
   "id": "8962fbbf",
   "metadata": {},
   "source": [
    "#### Two types of variables: Class variables & Instance variable\n",
    "#### Here wheels is a class variable, due to it's not belong to __init__ method\n",
    "#### And while we change wheels value for a particular instance, it wont effect to other instance.\n",
    "#### To get effect in other instance, we should set new values using class name."
   ]
  },
  {
   "cell_type": "code",
   "execution_count": 12,
   "id": "50367744",
   "metadata": {},
   "outputs": [],
   "source": [
    "c1.mil = 8\n",
    "# c1.wheels = 5\n",
    "Car.wheels = 6"
   ]
  },
  {
   "cell_type": "code",
   "execution_count": 13,
   "id": "66da041a",
   "metadata": {},
   "outputs": [
    {
     "name": "stdout",
     "output_type": "stream",
     "text": [
      "KIA 8 6\n",
      "KIA 10 6\n"
     ]
    }
   ],
   "source": [
    "print(c1.com, c1.mil, c1.wheels)\n",
    "print(c2.com, c2.mil, c2.wheels)"
   ]
  },
  {
   "cell_type": "code",
   "execution_count": null,
   "id": "1ebdc259",
   "metadata": {},
   "outputs": [],
   "source": []
  }
 ],
 "metadata": {
  "kernelspec": {
   "display_name": "Python 3",
   "language": "python",
   "name": "python3"
  },
  "language_info": {
   "codemirror_mode": {
    "name": "ipython",
    "version": 3
   },
   "file_extension": ".py",
   "mimetype": "text/x-python",
   "name": "python",
   "nbconvert_exporter": "python",
   "pygments_lexer": "ipython3",
   "version": "3.9.1"
  }
 },
 "nbformat": 4,
 "nbformat_minor": 5
}
