{
 "cells": [
  {
   "cell_type": "code",
   "execution_count": 26,
   "id": "d938a688",
   "metadata": {},
   "outputs": [],
   "source": [
    "class Student:\n",
    "    school = 'Telusko'\n",
    "    \n",
    "    def __init__(self, m1, m2, m3): # instance method\n",
    "        self.m1 = m1\n",
    "        self.m2 = m2\n",
    "        self.m3 = m3\n",
    "        \n",
    "    def avg(self):\n",
    "        return (self.m1 + self.m2 + self.m3) / 3\n",
    "    \n",
    "    @classmethod\n",
    "    def getSchool(cls): # class method\n",
    "        return cls.school\n",
    "    \n",
    "    @staticmethod\n",
    "    def info(): # static method: we may () keep blank: no self, no cls\n",
    "        print('This is Student class')"
   ]
  },
  {
   "cell_type": "code",
   "execution_count": 27,
   "id": "0ee1ada7",
   "metadata": {},
   "outputs": [],
   "source": [
    "s1 = Student(30, 25, 40)\n",
    "s2 = Student(45, 47, 20)"
   ]
  },
  {
   "cell_type": "code",
   "execution_count": 28,
   "id": "bbfc06e8",
   "metadata": {},
   "outputs": [
    {
     "name": "stdout",
     "output_type": "stream",
     "text": [
      "31.666666666666668\n",
      "Telusko\n"
     ]
    }
   ],
   "source": [
    "print(s1.avg())\n",
    "print(Student.getSchool())"
   ]
  },
  {
   "cell_type": "code",
   "execution_count": 29,
   "id": "f860f0a1",
   "metadata": {},
   "outputs": [
    {
     "name": "stdout",
     "output_type": "stream",
     "text": [
      "This is Student class\n"
     ]
    }
   ],
   "source": [
    "s1.info() # in static method no need to create any instance of class"
   ]
  },
  {
   "cell_type": "code",
   "execution_count": 30,
   "id": "440f6d86",
   "metadata": {},
   "outputs": [
    {
     "name": "stdout",
     "output_type": "stream",
     "text": [
      "This is Student class\n"
     ]
    }
   ],
   "source": [
    "Student.info()"
   ]
  },
  {
   "cell_type": "code",
   "execution_count": null,
   "id": "d862d9fd",
   "metadata": {},
   "outputs": [],
   "source": []
  }
 ],
 "metadata": {
  "kernelspec": {
   "display_name": "Python 3",
   "language": "python",
   "name": "python3"
  },
  "language_info": {
   "codemirror_mode": {
    "name": "ipython",
    "version": 3
   },
   "file_extension": ".py",
   "mimetype": "text/x-python",
   "name": "python",
   "nbconvert_exporter": "python",
   "pygments_lexer": "ipython3",
   "version": "3.9.1"
  }
 },
 "nbformat": 4,
 "nbformat_minor": 5
}
