{
 "cells": [
  {
   "cell_type": "code",
   "execution_count": 73,
   "id": "6b546e9a",
   "metadata": {},
   "outputs": [],
   "source": [
    "class A:\n",
    "    def __init__(self): # constructor\n",
    "        print('Init A is working')\n",
    "    \n",
    "    def feature1(self):\n",
    "        print('Feature 1A is working')\n",
    "        \n",
    "    def feature2(self):\n",
    "        print('Feature 2A is working')\n",
    "        \n",
    "class B: # B(A) means B is inheriting features of class A (B is subclass, A is superclass)\n",
    "    def __init__(self): # constructor\n",
    "        #super().__init__() # here we call init of super class A\n",
    "        print('Init B is working')\n",
    "    \n",
    "    def feature1(self):\n",
    "        print('Feature 1B is working')\n",
    "        \n",
    "    def feature2(self):\n",
    "        print('Feature 2B is working')\n",
    "        \n",
    "class C(A, B): # take super class features from left to right first, here take A's features first\n",
    "    def __init__(self): # constructor\n",
    "        super().__init__()\n",
    "        print('Init C is working')\n",
    "        \n",
    "    def feat(self): # super method\n",
    "        super().feature2()"
   ]
  },
  {
   "cell_type": "code",
   "execution_count": 74,
   "id": "969c148b",
   "metadata": {},
   "outputs": [
    {
     "name": "stdout",
     "output_type": "stream",
     "text": [
      "Init A is working\n"
     ]
    }
   ],
   "source": [
    "a1 = A()"
   ]
  },
  {
   "cell_type": "code",
   "execution_count": 75,
   "id": "c32b4f6c",
   "metadata": {},
   "outputs": [
    {
     "name": "stdout",
     "output_type": "stream",
     "text": [
      "Init B is working\n"
     ]
    }
   ],
   "source": [
    "b1 = B() # It will automatically call constructor, since B inherits super class A. \n",
    "#But when sub class (B) has own __init__ method, it'll call that own __init__ first."
   ]
  },
  {
   "cell_type": "code",
   "execution_count": 76,
   "id": "994d1406",
   "metadata": {},
   "outputs": [
    {
     "name": "stdout",
     "output_type": "stream",
     "text": [
      "Init A is working\n",
      "Init C is working\n"
     ]
    }
   ],
   "source": [
    "c1 = C()"
   ]
  },
  {
   "cell_type": "code",
   "execution_count": 77,
   "id": "b7442b5b",
   "metadata": {},
   "outputs": [
    {
     "name": "stdout",
     "output_type": "stream",
     "text": [
      "Feature 1A is working\n"
     ]
    }
   ],
   "source": [
    "c1.feature1()"
   ]
  },
  {
   "cell_type": "code",
   "execution_count": 78,
   "id": "74dc4d2b",
   "metadata": {},
   "outputs": [
    {
     "name": "stdout",
     "output_type": "stream",
     "text": [
      "Feature 2A is working\n"
     ]
    }
   ],
   "source": [
    "c1.feat()"
   ]
  },
  {
   "cell_type": "code",
   "execution_count": null,
   "id": "29ef082b",
   "metadata": {},
   "outputs": [],
   "source": []
  }
 ],
 "metadata": {
  "kernelspec": {
   "display_name": "Python 3",
   "language": "python",
   "name": "python3"
  },
  "language_info": {
   "codemirror_mode": {
    "name": "ipython",
    "version": 3
   },
   "file_extension": ".py",
   "mimetype": "text/x-python",
   "name": "python",
   "nbconvert_exporter": "python",
   "pygments_lexer": "ipython3",
   "version": "3.9.1"
  }
 },
 "nbformat": 4,
 "nbformat_minor": 5
}
