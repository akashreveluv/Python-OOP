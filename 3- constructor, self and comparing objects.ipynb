{
 "cells": [
  {
   "cell_type": "code",
   "execution_count": 24,
   "id": "827caf96",
   "metadata": {},
   "outputs": [],
   "source": [
    "class Computer:\n",
    "    def __init__(self):\n",
    "        self.name = \"Akash\"\n",
    "        self.age = 27\n",
    "        \n",
    "    def compare(self, other):\n",
    "        if self.age == other.age:\n",
    "            return True\n",
    "        else:\n",
    "            return False"
   ]
  },
  {
   "cell_type": "code",
   "execution_count": 25,
   "id": "0b8d766e",
   "metadata": {},
   "outputs": [],
   "source": [
    "c1 = Computer()\n",
    "# c1.age = 30\n",
    "c2 = Computer()"
   ]
  },
  {
   "cell_type": "markdown",
   "id": "7cb4cbdf",
   "metadata": {},
   "source": [
    "#### We will get different memory location address of above objects and here constructor(here __init__) make the location of objects"
   ]
  },
  {
   "cell_type": "code",
   "execution_count": 26,
   "id": "b654bb66",
   "metadata": {},
   "outputs": [
    {
     "name": "stdout",
     "output_type": "stream",
     "text": [
      "2103475824288\n",
      "2103475823088\n"
     ]
    }
   ],
   "source": [
    "print(id(c1))\n",
    "print(id(c2))"
   ]
  },
  {
   "cell_type": "code",
   "execution_count": 27,
   "id": "1f30c72b",
   "metadata": {},
   "outputs": [
    {
     "name": "stdout",
     "output_type": "stream",
     "text": [
      "They are same\n"
     ]
    }
   ],
   "source": [
    "if c1.compare(c2):\n",
    "    print('They are same')\n",
    "else:\n",
    "    print('They are different')"
   ]
  },
  {
   "cell_type": "code",
   "execution_count": null,
   "id": "f53ddc46",
   "metadata": {},
   "outputs": [],
   "source": []
  }
 ],
 "metadata": {
  "kernelspec": {
   "display_name": "Python 3",
   "language": "python",
   "name": "python3"
  },
  "language_info": {
   "codemirror_mode": {
    "name": "ipython",
    "version": 3
   },
   "file_extension": ".py",
   "mimetype": "text/x-python",
   "name": "python",
   "nbconvert_exporter": "python",
   "pygments_lexer": "ipython3",
   "version": "3.9.1"
  }
 },
 "nbformat": 4,
 "nbformat_minor": 5
}
